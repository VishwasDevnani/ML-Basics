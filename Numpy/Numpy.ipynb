{
 "cells": [
  {
   "cell_type": "code",
   "execution_count": 48,
   "metadata": {},
   "outputs": [],
   "source": [
    "import numpy as np"
   ]
  },
  {
   "cell_type": "code",
   "execution_count": 67,
   "metadata": {},
   "outputs": [],
   "source": [
    "ls = [[1,2,3],[3,4]]"
   ]
  },
  {
   "cell_type": "code",
   "execution_count": 62,
   "metadata": {},
   "outputs": [
    {
     "data": {
      "text/plain": [
       "[[1, 2], [3, 4]]"
      ]
     },
     "execution_count": 62,
     "metadata": {},
     "output_type": "execute_result"
    }
   ],
   "source": [
    "ls"
   ]
  },
  {
   "cell_type": "code",
   "execution_count": 63,
   "metadata": {},
   "outputs": [
    {
     "data": {
      "text/plain": [
       "2"
      ]
     },
     "execution_count": 63,
     "metadata": {},
     "output_type": "execute_result"
    }
   ],
   "source": [
    "len(ls)"
   ]
  },
  {
   "cell_type": "code",
   "execution_count": 64,
   "metadata": {},
   "outputs": [
    {
     "data": {
      "text/plain": [
       "2"
      ]
     },
     "execution_count": 64,
     "metadata": {},
     "output_type": "execute_result"
    }
   ],
   "source": [
    "len(ls[0])"
   ]
  },
  {
   "cell_type": "code",
   "execution_count": 68,
   "metadata": {},
   "outputs": [
    {
     "name": "stderr",
     "output_type": "stream",
     "text": [
      "<ipython-input-68-548ccfdeab35>:1: VisibleDeprecationWarning: Creating an ndarray from ragged nested sequences (which is a list-or-tuple of lists-or-tuples-or ndarrays with different lengths or shapes) is deprecated. If you meant to do this, you must specify 'dtype=object' when creating the ndarray.\n",
      "  arr = np.array(ls)\n"
     ]
    }
   ],
   "source": [
    "arr = np.array(ls)"
   ]
  },
  {
   "cell_type": "code",
   "execution_count": 69,
   "metadata": {},
   "outputs": [
    {
     "data": {
      "text/plain": [
       "(2,)"
      ]
     },
     "execution_count": 69,
     "metadata": {},
     "output_type": "execute_result"
    }
   ],
   "source": [
    "arr.shape"
   ]
  },
  {
   "cell_type": "code",
   "execution_count": 70,
   "metadata": {},
   "outputs": [
    {
     "data": {
      "text/plain": [
       "array([[0., 0.],\n",
       "       [0., 0.],\n",
       "       [0., 0.],\n",
       "       [0., 0.],\n",
       "       [0., 0.]])"
      ]
     },
     "execution_count": 70,
     "metadata": {},
     "output_type": "execute_result"
    }
   ],
   "source": [
    "np.zeros([5,2])"
   ]
  },
  {
   "cell_type": "code",
   "execution_count": 71,
   "metadata": {},
   "outputs": [
    {
     "data": {
      "text/plain": [
       "array([[1., 1., 1., 1., 1.],\n",
       "       [1., 1., 1., 1., 1.]])"
      ]
     },
     "execution_count": 71,
     "metadata": {},
     "output_type": "execute_result"
    }
   ],
   "source": [
    "np.ones([2,5])"
   ]
  },
  {
   "cell_type": "code",
   "execution_count": 72,
   "metadata": {},
   "outputs": [
    {
     "data": {
      "text/plain": [
       "array([[9, 9, 9, 9],\n",
       "       [9, 9, 9, 9],\n",
       "       [9, 9, 9, 9],\n",
       "       [9, 9, 9, 9]])"
      ]
     },
     "execution_count": 72,
     "metadata": {},
     "output_type": "execute_result"
    }
   ],
   "source": [
    "np.full((4,4),9)"
   ]
  },
  {
   "cell_type": "code",
   "execution_count": 73,
   "metadata": {},
   "outputs": [
    {
     "data": {
      "text/plain": [
       "array([[1., 0., 0., 0., 0.],\n",
       "       [0., 1., 0., 0., 0.],\n",
       "       [0., 0., 1., 0., 0.],\n",
       "       [0., 0., 0., 1., 0.],\n",
       "       [0., 0., 0., 0., 1.]])"
      ]
     },
     "execution_count": 73,
     "metadata": {},
     "output_type": "execute_result"
    }
   ],
   "source": [
    "np.eye(5)"
   ]
  },
  {
   "cell_type": "code",
   "execution_count": 74,
   "metadata": {},
   "outputs": [
    {
     "data": {
      "text/plain": [
       "array([[ 7,  7,  5,  9, 11, 11,  8,  7,  7, 11, 14, 11, 13, 11,  9],\n",
       "       [ 5,  9, 12,  9,  6,  6,  6, 10,  8, 11, 11, 14,  5, 10, 13],\n",
       "       [14, 10,  8, 12,  9,  5, 10, 12, 14,  9, 12,  6,  5,  7, 11],\n",
       "       [10,  8,  9,  5, 14, 14,  8,  9,  7, 10,  6,  9, 11,  5,  8],\n",
       "       [14, 13, 10, 10,  6, 13, 11, 11,  8, 14, 10, 10,  8,  5,  7],\n",
       "       [ 8,  9, 13, 11,  7,  7, 13,  7,  5, 12,  9,  8,  7,  6, 13],\n",
       "       [ 8,  6, 13, 12, 11,  7, 13,  9,  7,  5,  8, 11,  8, 10, 10],\n",
       "       [ 5,  8,  8, 10, 12,  6,  6,  8,  8, 10, 11, 14, 10, 14,  9],\n",
       "       [11,  8, 10, 14, 14,  9,  5, 11,  7, 14, 14, 14, 12,  8,  5],\n",
       "       [ 8,  8,  7, 13, 14, 13,  5, 11,  9,  5,  6, 12, 12,  6,  8],\n",
       "       [14, 10, 10, 10, 11,  8,  9,  5, 14,  9,  9,  5,  7, 13,  7],\n",
       "       [ 6,  5,  5, 12,  6,  5,  8, 10, 13, 11, 12,  9, 13,  8, 10],\n",
       "       [ 7, 11, 14,  8, 11, 11,  6, 10, 12, 12,  8,  5, 10, 11, 14],\n",
       "       [14,  6,  8,  9, 11,  5, 11,  5, 11,  8,  5, 10, 14,  5, 11],\n",
       "       [ 5,  5, 12,  5, 10, 14, 10,  6,  5,  6,  9, 12,  8, 13,  7]])"
      ]
     },
     "execution_count": 74,
     "metadata": {},
     "output_type": "execute_result"
    }
   ],
   "source": [
    "np.random.randint(5,15,(15,15))"
   ]
  },
  {
   "cell_type": "code",
   "execution_count": 80,
   "metadata": {},
   "outputs": [],
   "source": [
    "a = (np.random.random([15,15])*10)+5"
   ]
  },
  {
   "cell_type": "code",
   "execution_count": 83,
   "metadata": {},
   "outputs": [
    {
     "data": {
      "text/plain": [
       "array([[11.77333724,  6.33061769, 13.94066885,  6.72625078,  5.10566373,\n",
       "        13.48018258, 12.4346097 , 14.89951286, 13.45385868,  8.33141001,\n",
       "        14.72174948,  5.68801618, 13.05059239, 12.53204151, 13.93536391],\n",
       "       [12.41349452, 10.25483567,  8.17663609,  6.23025293,  7.82984392,\n",
       "         9.62389298,  8.74105782,  5.32145449,  8.70731092, 11.6962561 ,\n",
       "         7.45358398, 11.89628878, 11.60013481, 10.70712955,  7.63420162],\n",
       "       [ 8.26082541,  7.4091556 , 12.3725575 ,  8.08469281,  6.17618648,\n",
       "        11.16907929,  6.41068457,  8.65607896,  6.06619308,  7.11418907,\n",
       "         5.90744193,  8.31367334,  7.06240279,  5.56267948, 14.73190018],\n",
       "       [11.35841141, 12.54488916, 13.65613076, 12.71582948, 13.53798612,\n",
       "        12.44727317, 11.67853471,  9.90010493, 12.47582929, 14.0676288 ,\n",
       "        12.30102277, 10.64751142, 14.44217009,  6.73773314, 11.21811609],\n",
       "       [ 8.66787362, 10.5816574 ,  5.2684882 , 12.57065491, 10.83108173,\n",
       "        13.30745534, 14.12503714,  8.52896387,  7.11973239,  9.12283178,\n",
       "         8.10429201,  9.60572999, 13.05454343, 11.92600628,  8.33662564],\n",
       "       [13.14607909, 10.61698638, 14.33982599, 12.32251913, 13.26733511,\n",
       "        10.08801162,  7.94327733, 13.59871064, 11.60569852, 11.06029809,\n",
       "        12.87518003, 10.79901983,  9.59974386,  6.57420432,  8.0700618 ],\n",
       "       [10.96668232,  5.64423557,  5.1365833 ,  5.4169444 ,  7.9345838 ,\n",
       "        13.61177809, 13.21490138,  5.21464859,  5.18680135, 12.66359694,\n",
       "         6.16832974, 12.54394564, 13.25892186, 13.0681786 ,  5.16817135],\n",
       "       [ 9.42649165, 10.06731409, 13.89306609,  5.51375415, 10.11029299,\n",
       "         7.7577756 ,  8.80899686,  6.97030995,  9.99903805,  6.2939279 ,\n",
       "        13.82610227, 12.36649085,  7.75157249, 11.39273314,  7.98119988],\n",
       "       [14.08235577,  5.59413033, 14.15762763, 10.41134208, 14.64784475,\n",
       "         7.33298473, 13.74264192,  6.84637009,  5.74587291, 13.00507757,\n",
       "        11.50193937, 10.07419739, 11.99627117, 11.62422154,  5.8942665 ],\n",
       "       [ 5.04026627, 12.40866337,  7.48224873, 13.95110284,  7.67464582,\n",
       "         7.08499727, 13.44746133, 11.20385306,  6.11436658, 11.51828771,\n",
       "         7.28078881,  9.6539438 , 10.88872802,  8.96715355,  7.90651508],\n",
       "       [ 7.4150738 ,  5.15726298,  9.92527068,  6.77233943,  8.35415481,\n",
       "        14.9673974 ,  9.48253516, 11.7630609 ,  5.84020125,  8.29088166,\n",
       "         9.68583943, 11.50370735, 11.46567601, 14.60263979, 12.6301    ],\n",
       "       [ 5.33899445,  6.87948984,  6.31256888, 11.91812404, 12.62474115,\n",
       "        14.24183463, 14.35426356,  5.51412946,  8.76305736,  6.61045443,\n",
       "         5.95131495,  5.98049117,  6.59743648, 13.85442276, 11.48428372],\n",
       "       [ 6.01225546,  6.76440608,  5.58869408, 10.21011612,  6.98547635,\n",
       "         5.77008844, 14.44016603,  8.35764855, 10.65935581,  5.21362496,\n",
       "        11.46522766,  5.49773759, 10.39350348,  5.50334208, 12.67306122],\n",
       "       [ 9.64487296, 10.34896879,  9.72183554,  9.65847186,  7.9567156 ,\n",
       "        13.72646345,  5.10161409,  8.09383948, 11.11913521, 14.32559707,\n",
       "         5.63818988,  9.35660732, 11.29457231, 11.29322792, 14.76261559],\n",
       "       [12.34745353,  7.22926426, 11.86588063,  9.25261229, 13.09664229,\n",
       "         7.65967272, 13.96129885,  8.10305434,  7.41828967,  6.38039176,\n",
       "        12.0804481 ,  6.26336198, 10.65397063, 12.93848272,  5.02971549]])"
      ]
     },
     "execution_count": 83,
     "metadata": {},
     "output_type": "execute_result"
    }
   ],
   "source": [
    "a"
   ]
  },
  {
   "cell_type": "code",
   "execution_count": 89,
   "metadata": {},
   "outputs": [],
   "source": [
    "a = a.astype(int)"
   ]
  },
  {
   "cell_type": "code",
   "execution_count": 90,
   "metadata": {},
   "outputs": [
    {
     "data": {
      "text/plain": [
       "array([[11,  6, 13,  6,  5, 13, 12, 14, 13,  8, 14,  5, 13, 12, 13],\n",
       "       [12, 10,  8,  6,  7,  9,  8,  5,  8, 11,  7, 11, 11, 10,  7],\n",
       "       [ 8,  7, 12,  8,  6, 11,  6,  8,  6,  7,  5,  8,  7,  5, 14],\n",
       "       [11, 12, 13, 12, 13, 12, 11,  9, 12, 14, 12, 10, 14,  6, 11],\n",
       "       [ 8, 10,  5, 12, 10, 13, 14,  8,  7,  9,  8,  9, 13, 11,  8],\n",
       "       [13, 10, 14, 12, 13, 10,  7, 13, 11, 11, 12, 10,  9,  6,  8],\n",
       "       [10,  5,  5,  5,  7, 13, 13,  5,  5, 12,  6, 12, 13, 13,  5],\n",
       "       [ 9, 10, 13,  5, 10,  7,  8,  6,  9,  6, 13, 12,  7, 11,  7],\n",
       "       [14,  5, 14, 10, 14,  7, 13,  6,  5, 13, 11, 10, 11, 11,  5],\n",
       "       [ 5, 12,  7, 13,  7,  7, 13, 11,  6, 11,  7,  9, 10,  8,  7],\n",
       "       [ 7,  5,  9,  6,  8, 14,  9, 11,  5,  8,  9, 11, 11, 14, 12],\n",
       "       [ 5,  6,  6, 11, 12, 14, 14,  5,  8,  6,  5,  5,  6, 13, 11],\n",
       "       [ 6,  6,  5, 10,  6,  5, 14,  8, 10,  5, 11,  5, 10,  5, 12],\n",
       "       [ 9, 10,  9,  9,  7, 13,  5,  8, 11, 14,  5,  9, 11, 11, 14],\n",
       "       [12,  7, 11,  9, 13,  7, 13,  8,  7,  6, 12,  6, 10, 12,  5]])"
      ]
     },
     "execution_count": 90,
     "metadata": {},
     "output_type": "execute_result"
    }
   ],
   "source": [
    "a"
   ]
  },
  {
   "cell_type": "code",
   "execution_count": 91,
   "metadata": {},
   "outputs": [
    {
     "data": {
      "text/plain": [
       "6"
      ]
     },
     "execution_count": 91,
     "metadata": {},
     "output_type": "execute_result"
    }
   ],
   "source": [
    "a[1,3]"
   ]
  },
  {
   "cell_type": "code",
   "execution_count": 93,
   "metadata": {},
   "outputs": [
    {
     "data": {
      "text/plain": [
       "array([12,  7, 11,  9, 13,  7, 13,  8,  7,  6, 12,  6, 10, 12,  5])"
      ]
     },
     "execution_count": 93,
     "metadata": {},
     "output_type": "execute_result"
    }
   ],
   "source": [
    "a[-1]"
   ]
  },
  {
   "cell_type": "code",
   "execution_count": 97,
   "metadata": {},
   "outputs": [
    {
     "data": {
      "text/plain": [
       "array([12, 10,  5,  6, 11,  6, 13, 11, 11,  8, 14, 13,  5, 11, 12])"
      ]
     },
     "execution_count": 97,
     "metadata": {},
     "output_type": "execute_result"
    }
   ],
   "source": [
    "a[:,-2]"
   ]
  },
  {
   "cell_type": "code",
   "execution_count": 98,
   "metadata": {},
   "outputs": [],
   "source": [
    "a = np.random.randint(0,10,[3,3])"
   ]
  },
  {
   "cell_type": "code",
   "execution_count": 99,
   "metadata": {},
   "outputs": [
    {
     "data": {
      "text/plain": [
       "array([[3, 5, 3],\n",
       "       [8, 5, 7],\n",
       "       [2, 3, 4]])"
      ]
     },
     "execution_count": 99,
     "metadata": {},
     "output_type": "execute_result"
    }
   ],
   "source": [
    "a"
   ]
  },
  {
   "cell_type": "code",
   "execution_count": 100,
   "metadata": {},
   "outputs": [],
   "source": [
    "b = np.random.randint(0,10,[3,3])"
   ]
  },
  {
   "cell_type": "code",
   "execution_count": 101,
   "metadata": {},
   "outputs": [
    {
     "data": {
      "text/plain": [
       "array([[8, 4, 9],\n",
       "       [3, 4, 3],\n",
       "       [8, 2, 5]])"
      ]
     },
     "execution_count": 101,
     "metadata": {},
     "output_type": "execute_result"
    }
   ],
   "source": [
    "b"
   ]
  },
  {
   "cell_type": "code",
   "execution_count": 105,
   "metadata": {},
   "outputs": [
    {
     "data": {
      "text/plain": [
       "array([[-5,  1, -6],\n",
       "       [ 5,  1,  4],\n",
       "       [-6,  1, -1]])"
      ]
     },
     "execution_count": 105,
     "metadata": {},
     "output_type": "execute_result"
    }
   ],
   "source": [
    "a-b"
   ]
  },
  {
   "cell_type": "code",
   "execution_count": 106,
   "metadata": {},
   "outputs": [
    {
     "data": {
      "text/plain": [
       "array([[11,  9, 12],\n",
       "       [11,  9, 10],\n",
       "       [10,  5,  9]])"
      ]
     },
     "execution_count": 106,
     "metadata": {},
     "output_type": "execute_result"
    }
   ],
   "source": [
    "a+b"
   ]
  },
  {
   "cell_type": "code",
   "execution_count": 107,
   "metadata": {},
   "outputs": [
    {
     "data": {
      "text/plain": [
       "array([[24, 20, 27],\n",
       "       [24, 20, 21],\n",
       "       [16,  6, 20]])"
      ]
     },
     "execution_count": 107,
     "metadata": {},
     "output_type": "execute_result"
    }
   ],
   "source": [
    "a*b"
   ]
  },
  {
   "cell_type": "code",
   "execution_count": 108,
   "metadata": {},
   "outputs": [
    {
     "data": {
      "text/plain": [
       "array([[0.375     , 1.25      , 0.33333333],\n",
       "       [2.66666667, 1.25      , 2.33333333],\n",
       "       [0.25      , 1.5       , 0.8       ]])"
      ]
     },
     "execution_count": 108,
     "metadata": {},
     "output_type": "execute_result"
    }
   ],
   "source": [
    "a/b"
   ]
  },
  {
   "cell_type": "code",
   "execution_count": 111,
   "metadata": {},
   "outputs": [
    {
     "data": {
      "text/plain": [
       "((3, 3), (3, 3))"
      ]
     },
     "execution_count": 111,
     "metadata": {},
     "output_type": "execute_result"
    }
   ],
   "source": [
    "a.shape,b.shape"
   ]
  },
  {
   "cell_type": "code",
   "execution_count": 135,
   "metadata": {},
   "outputs": [],
   "source": [
    "b = np.random.randint(0,10,[3,2])"
   ]
  },
  {
   "cell_type": "code",
   "execution_count": 126,
   "metadata": {},
   "outputs": [
    {
     "data": {
      "text/plain": [
       "(array([[3, 5, 3],\n",
       "        [8, 5, 7],\n",
       "        [2, 3, 4]]),\n",
       " array([[8],\n",
       "        [6],\n",
       "        [1]]))"
      ]
     },
     "execution_count": 126,
     "metadata": {},
     "output_type": "execute_result"
    }
   ],
   "source": [
    "a,b"
   ]
  },
  {
   "cell_type": "code",
   "execution_count": 122,
   "metadata": {},
   "outputs": [
    {
     "ename": "ValueError",
     "evalue": "operands could not be broadcast together with shapes (3,3) (1,4) ",
     "output_type": "error",
     "traceback": [
      "\u001b[1;31m---------------------------------------------------------------------------\u001b[0m",
      "\u001b[1;31mValueError\u001b[0m                                Traceback (most recent call last)",
      "\u001b[1;32m<ipython-input-122-ca730b97bf8a>\u001b[0m in \u001b[0;36m<module>\u001b[1;34m\u001b[0m\n\u001b[1;32m----> 1\u001b[1;33m \u001b[0ma\u001b[0m\u001b[1;33m+\u001b[0m\u001b[0mb\u001b[0m\u001b[1;33m\u001b[0m\u001b[1;33m\u001b[0m\u001b[0m\n\u001b[0m",
      "\u001b[1;31mValueError\u001b[0m: operands could not be broadcast together with shapes (3,3) (1,4) "
     ]
    }
   ],
   "source": [
    "a+b"
   ]
  },
  {
   "cell_type": "code",
   "execution_count": 114,
   "metadata": {},
   "outputs": [
    {
     "data": {
      "text/plain": [
       "array([[4, 6, 4],\n",
       "       [9, 6, 8],\n",
       "       [3, 4, 5]])"
      ]
     },
     "execution_count": 114,
     "metadata": {},
     "output_type": "execute_result"
    }
   ],
   "source": [
    "a+1"
   ]
  },
  {
   "cell_type": "code",
   "execution_count": 127,
   "metadata": {},
   "outputs": [
    {
     "data": {
      "text/plain": [
       "array([[3, 5, 3],\n",
       "       [8, 5, 7],\n",
       "       [2, 3, 4]])"
      ]
     },
     "execution_count": 127,
     "metadata": {},
     "output_type": "execute_result"
    }
   ],
   "source": [
    "a"
   ]
  },
  {
   "cell_type": "code",
   "execution_count": 128,
   "metadata": {},
   "outputs": [
    {
     "data": {
      "text/plain": [
       "array([[8],\n",
       "       [6],\n",
       "       [1]])"
      ]
     },
     "execution_count": 128,
     "metadata": {},
     "output_type": "execute_result"
    }
   ],
   "source": [
    "b"
   ]
  },
  {
   "cell_type": "code",
   "execution_count": 137,
   "metadata": {},
   "outputs": [
    {
     "data": {
      "text/plain": [
       "((3, 3), (3, 2))"
      ]
     },
     "execution_count": 137,
     "metadata": {},
     "output_type": "execute_result"
    }
   ],
   "source": [
    "a.shape,b.shape"
   ]
  },
  {
   "cell_type": "code",
   "execution_count": 138,
   "metadata": {},
   "outputs": [
    {
     "data": {
      "text/plain": [
       "array([[58, 24],\n",
       "       [83, 56],\n",
       "       [46, 32]])"
      ]
     },
     "execution_count": 138,
     "metadata": {},
     "output_type": "execute_result"
    }
   ],
   "source": [
    "a.dot(b)"
   ]
  },
  {
   "cell_type": "code",
   "execution_count": 136,
   "metadata": {},
   "outputs": [
    {
     "data": {
      "text/plain": [
       "array([[58, 24],\n",
       "       [83, 56],\n",
       "       [46, 32]])"
      ]
     },
     "execution_count": 136,
     "metadata": {},
     "output_type": "execute_result"
    }
   ],
   "source": [
    "np.matmul(a,b)"
   ]
  },
  {
   "cell_type": "code",
   "execution_count": 139,
   "metadata": {},
   "outputs": [
    {
     "data": {
      "text/plain": [
       "array([[1, 0],\n",
       "       [8, 0],\n",
       "       [5, 8]])"
      ]
     },
     "execution_count": 139,
     "metadata": {},
     "output_type": "execute_result"
    }
   ],
   "source": [
    "b"
   ]
  },
  {
   "cell_type": "code",
   "execution_count": 141,
   "metadata": {},
   "outputs": [
    {
     "data": {
      "text/plain": [
       "(1, 0, 8, 0)"
      ]
     },
     "execution_count": 141,
     "metadata": {},
     "output_type": "execute_result"
    }
   ],
   "source": [
    "b[0,0],b[0,1],b[1,0],b[1,1]"
   ]
  },
  {
   "cell_type": "code",
   "execution_count": 144,
   "metadata": {},
   "outputs": [],
   "source": [
    "c = b.T"
   ]
  },
  {
   "cell_type": "code",
   "execution_count": 146,
   "metadata": {},
   "outputs": [
    {
     "data": {
      "text/plain": [
       "array([[1, 8, 5],\n",
       "       [0, 0, 8]])"
      ]
     },
     "execution_count": 146,
     "metadata": {},
     "output_type": "execute_result"
    }
   ],
   "source": [
    "c"
   ]
  },
  {
   "cell_type": "code",
   "execution_count": 145,
   "metadata": {},
   "outputs": [
    {
     "data": {
      "text/plain": [
       "(1, 8, 0, 0)"
      ]
     },
     "execution_count": 145,
     "metadata": {},
     "output_type": "execute_result"
    }
   ],
   "source": [
    "c[0,0],c[0,1],c[1,0],c[1,1]"
   ]
  },
  {
   "cell_type": "code",
   "execution_count": 147,
   "metadata": {},
   "outputs": [
    {
     "data": {
      "text/plain": [
       "array([[3, 5, 3],\n",
       "       [8, 5, 7],\n",
       "       [2, 3, 4]])"
      ]
     },
     "execution_count": 147,
     "metadata": {},
     "output_type": "execute_result"
    }
   ],
   "source": [
    "a"
   ]
  },
  {
   "cell_type": "code",
   "execution_count": 148,
   "metadata": {},
   "outputs": [
    {
     "data": {
      "text/plain": [
       "12"
      ]
     },
     "execution_count": 148,
     "metadata": {},
     "output_type": "execute_result"
    }
   ],
   "source": [
    "np.trace(a)"
   ]
  },
  {
   "cell_type": "code",
   "execution_count": 149,
   "metadata": {},
   "outputs": [
    {
     "data": {
      "text/plain": [
       "[0, 1, 2, 3, 4, 5, 6, 7, 8, 9]"
      ]
     },
     "execution_count": 149,
     "metadata": {},
     "output_type": "execute_result"
    }
   ],
   "source": [
    "list(range(10))"
   ]
  },
  {
   "cell_type": "code",
   "execution_count": 151,
   "metadata": {},
   "outputs": [
    {
     "data": {
      "text/plain": [
       "array([0, 1, 2, 3, 4, 5, 6, 7, 8, 9])"
      ]
     },
     "execution_count": 151,
     "metadata": {},
     "output_type": "execute_result"
    }
   ],
   "source": [
    "np.arange(10)"
   ]
  },
  {
   "cell_type": "code",
   "execution_count": 156,
   "metadata": {},
   "outputs": [],
   "source": []
  },
  {
   "cell_type": "code",
   "execution_count": 157,
   "metadata": {},
   "outputs": [],
   "source": [
    "import matplotlib.pyplot as plt"
   ]
  },
  {
   "cell_type": "code",
   "execution_count": 169,
   "metadata": {},
   "outputs": [
    {
     "data": {
      "text/plain": [
       "(array([2.50000e+01, 1.25800e+03, 1.94970e+04, 1.23404e+05, 3.19706e+05,\n",
       "        3.48253e+05, 1.56084e+05, 2.94390e+04, 2.28200e+03, 5.20000e+01]),\n",
       " array([-248160.91429109, -199426.41815201, -150691.92201293,\n",
       "        -101957.42587385,  -53222.92973476,   -4488.43359568,\n",
       "          44246.0625434 ,   92980.55868248,  141715.05482156,\n",
       "         190449.55096064,  239184.04709973]),\n",
       " <a list of 10 Patch objects>)"
      ]
     },
     "execution_count": 169,
     "metadata": {},
     "output_type": "execute_result"
    },
    {
     "data": {
      "image/png": "[encoded data removed]",
      "text/plain": [
       "<Figure size 432x288 with 1 Axes>"
      ]
     },
     "metadata": {
      "needs_background": "light"
     },
     "output_type": "display_data"
    }
   ],
   "source": [
    "normal = np.random.normal(0,50000,1000000)\n",
    "plt.hist(normal)"
   ]
  },
  {
   "cell_type": "code",
   "execution_count": 176,
   "metadata": {},
   "outputs": [
    {
     "name": "stdout",
     "output_type": "stream",
     "text": [
      "Time taken by Lists : 0.27019429206848145 seconds\n",
      "Time taken by NumPy Arrays : 0.002000093460083008 seconds\n"
     ]
    }
   ],
   "source": [
    "# importing required packages\n",
    "import numpy\n",
    "import time\n",
    " \n",
    "# size of arrays and lists\n",
    "size = 1000000  \n",
    " \n",
    "# declaring lists\n",
    "list1 = range(size)\n",
    "list2 = range(size)\n",
    " \n",
    "# declaring arrays\n",
    "array1 = numpy.arange(size) \n",
    "array2 = numpy.arange(size)\n",
    " \n",
    "# list\n",
    "initialTime = time.time()\n",
    "resultantList = [(a * b) for a, b in zip(list1, list2)]\n",
    " \n",
    "# calculating execution time\n",
    "print(\"Time taken by Lists :\",\n",
    "      (time.time() - initialTime),\n",
    "      \"seconds\")\n",
    " \n",
    "# NumPy array\n",
    "initialTime = time.time()\n",
    "resultantArray = array1 * array2\n",
    " \n",
    "# calculating execution time\n",
    "print(\"Time taken by NumPy Arrays :\",\n",
    "      (time.time() - initialTime),\n",
    "      \"seconds\")"
   ]
  },
  {
   "cell_type": "code",
   "execution_count": 170,
   "metadata": {},
   "outputs": [],
   "source": [
    "ls1,ls2 = [1,2,3,4],[5,6,7,8]"
   ]
  },
  {
   "cell_type": "code",
   "execution_count": 172,
   "metadata": {},
   "outputs": [
    {
     "name": "stdout",
     "output_type": "stream",
     "text": [
      "1 5\n",
      "2 6\n",
      "3 7\n",
      "4 8\n"
     ]
    }
   ],
   "source": [
    "for i,j in zip(ls1,ls2):\n",
    "    print(i,j)"
   ]
  },
  {
   "cell_type": "code",
   "execution_count": 175,
   "metadata": {},
   "outputs": [
    {
     "data": {
      "text/plain": [
       "[5, 12, 21, 32]"
      ]
     },
     "execution_count": 175,
     "metadata": {},
     "output_type": "execute_result"
    }
   ],
   "source": [
    "[x*y for x,y in zip(ls1,ls2)]"
   ]
  },
  {
   "cell_type": "code",
   "execution_count": null,
   "metadata": {},
   "outputs": [],
   "source": []
  }
 ],
 "metadata": {
  "kernelspec": {
   "display_name": "Python 3",
   "language": "python",
   "name": "python3"
  },
  "language_info": {
   "codemirror_mode": {
    "name": "ipython",
    "version": 3
   },
   "file_extension": ".py",
   "mimetype": "text/x-python",
   "name": "python",
   "nbconvert_exporter": "python",
   "pygments_lexer": "ipython3",
   "version": "3.8.3"
  }
 },
 "nbformat": 4,
 "nbformat_minor": 4
}
