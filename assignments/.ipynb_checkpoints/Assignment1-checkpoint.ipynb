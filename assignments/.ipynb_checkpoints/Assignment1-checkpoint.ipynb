{
 "cells": [
  {
   "cell_type": "code",
   "execution_count": 1,
   "metadata": {},
   "outputs": [],
   "source": [
    "import numpy as np\n",
    "import pandas as pd"
   ]
  },
  {
   "cell_type": "markdown",
   "metadata": {},
   "source": [
    "### Task1. Read a text file as csv"
   ]
  },
  {
   "cell_type": "markdown",
   "metadata": {},
   "source": [
    "\n",
    "<details>\n",
    "\n",
    "<summary>\n",
    "<font size=\"3\" color=\"green\">\n",
    "<b>Optional hints for <code><font size=\"4\">reading text files as CSV</font></code></b>\n",
    "</font>\n",
    "</summary>\n",
    "1. you can change <b>sep parameter of read_csv to sep='/t'</b>\n",
    "\n",
    "2. or click [here](https://www.geeksforgeeks.org/how-to-read-a-csv-file-to-a-dataframe-with-custom-delimiter-in-pandas/)\n",
    "</details>"
   ]
  },
  {
   "cell_type": "code",
   "execution_count": 2,
   "metadata": {},
   "outputs": [],
   "source": [
    "# Write your code here"
   ]
  },
  {
   "cell_type": "markdown",
   "metadata": {},
   "source": [
    "\n",
    "<details>\n",
    "\n",
    "<summary>\n",
    "<font size=\"2\" color=\"grey\">\n",
    "<b>Solution <code><font size=\"2\">Task1</font></code></b>\n",
    "</font>\n",
    "</summary>\n",
    "exchange_rates = pd.read_csv('data/dollars.txt',sep='\\t')\n",
    "</details>"
   ]
  },
  {
   "cell_type": "markdown",
   "metadata": {},
   "source": [
    "### Task2. Print the head, tail(n=8), info, and describe for the data"
   ]
  },
  {
   "cell_type": "code",
   "execution_count": null,
   "metadata": {},
   "outputs": [],
   "source": []
  },
  {
   "cell_type": "code",
   "execution_count": null,
   "metadata": {},
   "outputs": [],
   "source": []
  },
  {
   "cell_type": "code",
   "execution_count": null,
   "metadata": {},
   "outputs": [],
   "source": []
  },
  {
   "cell_type": "code",
   "execution_count": null,
   "metadata": {},
   "outputs": [],
   "source": []
  },
  {
   "cell_type": "markdown",
   "metadata": {},
   "source": [
    "\n",
    "<details>\n",
    "\n",
    "<summary>\n",
    "<font size=\"2\" color=\"grey\">\n",
    "<b>Solution <code><font size=\"2\">Task2</font></code></b>\n",
    "</font>\n",
    "</summary>\n",
    "Solution:\n",
    "    \n",
    "    1. exchange_rates.head()\n",
    "    \n",
    "    2. exchange_rates.tail(8)\n",
    "    \n",
    "    3. exchange_rates.describe()\n",
    "    \n",
    "    4. exchange_rates.info()\n",
    "</details>"
   ]
  },
  {
   "cell_type": "markdown",
   "metadata": {},
   "source": [
    "### Task3. Change column names to names=[\"year\", \"min\", \"max\", \"days\"]\n",
    "**set the new dataframe to df**"
   ]
  },
  {
   "cell_type": "markdown",
   "metadata": {},
   "source": [
    "\n",
    "<details>\n",
    "\n",
    "<summary>\n",
    "<font size=\"3\" color=\"green\">\n",
    "<b>Optional hints for <code><font size=\"4\">changing column names CSV</font></code></b>\n",
    "</font>\n",
    "</summary>\n",
    "1. you can use <b>rename</b> method of <i>pandas.DataFrame</i> and create a dictionary.\n",
    "    example: df.rename(columns={'A':'a', 'B':'b'})\n",
    "\n",
    "2. for more details click [here](https://pandas.pydata.org/pandas-docs/stable/reference/api/pandas.DataFrame.rename.html)\n",
    "</details>"
   ]
  },
  {
   "cell_type": "code",
   "execution_count": null,
   "metadata": {},
   "outputs": [],
   "source": []
  },
  {
   "cell_type": "markdown",
   "metadata": {},
   "source": [
    "\n",
    "<details>\n",
    "\n",
    "<summary>\n",
    "<font size=\"2\" color=\"grey\">\n",
    "<b>Solution <code><font size=\"2\">Task3</font></code></b>\n",
    "</font>\n",
    "</summary>\n",
    "new_df=exchange_rates.rename(columns={'Average':'AVG',\n",
    "                              'Min USD/EUR':'Min',\n",
    "                              'Max USD/EUR':'Max',\n",
    "                              'Working days':'Days'})\n",
    "</details>"
   ]
  },
  {
   "cell_type": "markdown",
   "metadata": {},
   "source": [
    "### Task4. Now save the dataframe as csv"
   ]
  },
  {
   "cell_type": "code",
   "execution_count": null,
   "metadata": {},
   "outputs": [],
   "source": []
  },
  {
   "cell_type": "markdown",
   "metadata": {},
   "source": [
    "\n",
    "<details>\n",
    "\n",
    "<summary>\n",
    "<font size=\"2\" color=\"grey\">\n",
    "<b>Solution <code><font size=\"2\">Task4</font></code></b>\n",
    "</font>\n",
    "</summary>\n",
    "new_df.to_csv('data\\exchange_rates_csv.csv')\n",
    "</details>"
   ]
  },
  {
   "cell_type": "code",
   "execution_count": null,
   "metadata": {},
   "outputs": [],
   "source": []
  }
 ],
 "metadata": {
  "kernelspec": {
   "display_name": "Python 3",
   "language": "python",
   "name": "python3"
  },
  "language_info": {
   "codemirror_mode": {
    "name": "ipython",
    "version": 3
   },
   "file_extension": ".py",
   "mimetype": "text/x-python",
   "name": "python",
   "nbconvert_exporter": "python",
   "pygments_lexer": "ipython3",
   "version": "3.8.3"
  }
 },
 "nbformat": 4,
 "nbformat_minor": 4
}
